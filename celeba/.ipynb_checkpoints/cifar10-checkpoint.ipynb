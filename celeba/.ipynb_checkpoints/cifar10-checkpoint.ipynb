{
 "cells": [
  {
   "cell_type": "code",
   "execution_count": 3,
   "id": "8c681283",
   "metadata": {},
   "outputs": [],
   "source": [
    "import os\n",
    "import json\n",
    "import pickle\n",
    "import random\n",
    "import copy\n",
    "import h5py\n",
    "import numpy as np\n",
    "from PIL import Image\n",
    "from datetime import datetime\n",
    "\n",
    "\n",
    "def rgb_to_grayscale(img):\n",
    "    \"\"\"Convert image to gray scale\"\"\"\n",
    "    \n",
    "    pil_img = Image.fromarray(img)\n",
    "    pil_gray_img = pil_img.convert('L')\n",
    "    np_gray_img = np.array(pil_gray_img, dtype=np.uint8)\n",
    "    np_gray_img = np.dstack([np_gray_img, np_gray_img, np_gray_img])\n",
    "    \n",
    "    return np_gray_img\n",
    "\n",
    "def create_cifar_data():\n",
    "    train_imgs = []\n",
    "    train_labels = []\n",
    "    for i in range(1, 6):\n",
    "        with open('cifar10/cifar-10-batches-py/data_batch_{}'.format(i), 'rb') as f:\n",
    "            batch = pickle.load(f, encoding='latin1')\n",
    "\n",
    "        train_imgs.append(batch['data'])\n",
    "        train_labels.extend(batch['labels'])\n",
    "\n",
    "    train_imgs = np.vstack(train_imgs).reshape(-1, 3, 32, 32)\n",
    "    train_imgs = train_imgs.transpose((0, 2, 3, 1))\n",
    "\n",
    "    with open('cifar10/cifar_train_labels', 'wb') as f:\n",
    "        pickle.dump(train_labels, f)\n",
    "    with open('cifar10/cifar_color_train_imgs', 'wb') as f:\n",
    "        pickle.dump(train_imgs, f)\n",
    "\n",
    "    cifar_gray_train = train_imgs.copy()\n",
    "    for i in range(cifar_gray_train.shape[0]):\n",
    "        cifar_gray_train[i] = rgb_to_grayscale(cifar_gray_train[i])\n",
    "\n",
    "    with open('cifar10/cifar_gray_train_imgs', 'wb') as f:\n",
    "        pickle.dump(cifar_gray_train, f)\n",
    "\n",
    "        \n",
    "        \n",
    "    with open('cifar10/cifar-10-batches-py/test_batch', 'rb') as f:\n",
    "        test_batch = pickle.load(f, encoding='latin1')\n",
    "    test_imgs = test_batch['data'].reshape(-1, 3, 32, 32)\n",
    "    test_imgs = test_imgs.transpose((0, 2, 3, 1))\n",
    "    test_labels = test_batch['labels']\n",
    "    \n",
    "    with open('cifar10/cifar_test_labels', 'wb') as f:\n",
    "        pickle.dump(train_labels, f)\n",
    "    with open('cifar10/cifar_color_test_imgs', 'wb') as f:\n",
    "        pickle.dump(train_imgs, f)\n",
    "        \n",
    "    cifar_gray_test = train_imgs.copy()\n",
    "    for i in range(cifar_gray_test.shape[0]):\n",
    "        cifar_gray_test[i] = rgb_to_grayscale(cifar_gray_test[i])\n",
    "    with open('cifar10/cifar_gray_test_imgs', 'wb') as f:\n",
    "        pickle.dump(cifar_gray_test, f)\n",
    "\n",
    "create_cifar_data()   "
   ]
  },
  {
   "cell_type": "code",
   "execution_count": 4,
   "id": "c0bd510b",
   "metadata": {},
   "outputs": [
    {
     "ename": "NameError",
     "evalue": "name 'get_loader' is not defined",
     "output_type": "error",
     "traceback": [
      "\u001b[0;31m---------------------------------------------------------------------------\u001b[0m",
      "\u001b[0;31mNameError\u001b[0m                                 Traceback (most recent call last)",
      "\u001b[0;32m<ipython-input-4-16e010fc8bbe>\u001b[0m in \u001b[0;36m<module>\u001b[0;34m\u001b[0m\n\u001b[0;32m----> 1\u001b[0;31m \u001b[0mtrain_dataloader_00\u001b[0m\u001b[0;34m,\u001b[0m \u001b[0mdl\u001b[0m \u001b[0;34m=\u001b[0m \u001b[0mget_loader\u001b[0m\u001b[0;34m(\u001b[0m\u001b[0margs\u001b[0m\u001b[0;34m.\u001b[0m\u001b[0mbs\u001b[0m\u001b[0;34m,\u001b[0m \u001b[0mgender\u001b[0m\u001b[0;34m=\u001b[0m\u001b[0;34m'0'\u001b[0m\u001b[0;34m,\u001b[0m \u001b[0mtarget\u001b[0m\u001b[0;34m=\u001b[0m\u001b[0;34m'0'\u001b[0m\u001b[0;34m,\u001b[0m \u001b[0msplit\u001b[0m\u001b[0;34m=\u001b[0m\u001b[0;34m\"train\"\u001b[0m\u001b[0;34m)\u001b[0m\u001b[0;34m\u001b[0m\u001b[0;34m\u001b[0m\u001b[0m\n\u001b[0m\u001b[1;32m      2\u001b[0m \u001b[0;32mfor\u001b[0m \u001b[0mi\u001b[0m \u001b[0;32min\u001b[0m \u001b[0miter\u001b[0m\u001b[0;34m(\u001b[0m\u001b[0mdl\u001b[0m\u001b[0;34m)\u001b[0m\u001b[0;34m:\u001b[0m\u001b[0;34m\u001b[0m\u001b[0;34m\u001b[0m\u001b[0m\n\u001b[1;32m      3\u001b[0m     \u001b[0mprint\u001b[0m\u001b[0;34m(\u001b[0m\u001b[0mi\u001b[0m\u001b[0;34m)\u001b[0m\u001b[0;34m\u001b[0m\u001b[0;34m\u001b[0m\u001b[0m\n",
      "\u001b[0;31mNameError\u001b[0m: name 'get_loader' is not defined"
     ]
    }
   ],
   "source": [
    "from utils_cifar\n",
    "\n",
    "train_dataloader_00, dl = get_loader(32, gender='0', target='0', split=\"train\")\n",
    "for i in iter(dl):\n",
    "    print(i)"
   ]
  },
  {
   "cell_type": "code",
   "execution_count": null,
   "id": "74d7c7a3",
   "metadata": {},
   "outputs": [],
   "source": []
  }
 ],
 "metadata": {
  "kernelspec": {
   "display_name": "Python 3",
   "language": "python",
   "name": "python3"
  },
  "language_info": {
   "codemirror_mode": {
    "name": "ipython",
    "version": 3
   },
   "file_extension": ".py",
   "mimetype": "text/x-python",
   "name": "python",
   "nbconvert_exporter": "python",
   "pygments_lexer": "ipython3",
   "version": "3.8.8"
  }
 },
 "nbformat": 4,
 "nbformat_minor": 5
}
